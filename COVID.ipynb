{
 "cells": [
  {
   "cell_type": "code",
   "execution_count": null,
   "metadata": {},
   "outputs": [],
   "source": [
    "import pandas as pd\n",
    "import numpy as np\n",
    "%matplotlib inline\n",
    "import matplotlib.pyplot as plt\n",
    "\n",
    "import ssl\n",
    "ssl._create_default_https_context = ssl._create_unverified_context"
   ]
  },
  {
   "cell_type": "code",
   "execution_count": null,
   "metadata": {},
   "outputs": [],
   "source": [
    "confirmedCases = pd.read_csv('https://raw.githubusercontent.com/CSSEGISandData/COVID-19/master/csse_covid_19_data/csse_covid_19_time_series/time_series_covid19_confirmed_global.csv')\n",
    "confirmedDeaths = pd.read_csv('https://raw.githubusercontent.com/CSSEGISandData/COVID-19/master/csse_covid_19_data/csse_covid_19_time_series/time_series_covid19_deaths_global.csv')\n",
    "confirmedDeaths = confirmedDeaths.drop(axis=1, labels=['Lat', 'Long', 'Province/State'])\n",
    "confirmedCases = confirmedCases.drop(axis=1, labels=['Lat', 'Long', 'Province/State'])\n",
    "\n",
    "# confirmedDeaths = pd.read_csv('https://coronadatascraper.com/timeseries-jhu.csv')\n",
    "# confirmedDeaths = confirmedDeaths.drop(axis=1, labels=['lat', 'long', 'population', 'url', 'state', 'county', 'city'])\n",
    "# confirmedDeaths['country'] = confirmedDeaths['country'].map({'GBR': 'United Kingdom', 'USA': 'US', 'ESP': 'Spain', 'ITA': 'Italy', 'CHN': 'China'})\n",
    "# confirmedDeaths = confirmedDeaths.rename(columns={'country': 'Country/Region'})"
   ]
  },
  {
   "cell_type": "code",
   "execution_count": null,
   "metadata": {},
   "outputs": [],
   "source": [
    "groupedDeaths = confirmedDeaths.groupby('Country/Region').sum()\n",
    "groupedCases = confirmedCases.groupby('Country/Region').sum()"
   ]
  },
  {
   "cell_type": "code",
   "execution_count": null,
   "metadata": {},
   "outputs": [],
   "source": [
    "deathsItalyUK = groupedDeaths.loc[['Italy', 'United Kingdom', 'China', 'Spain', 'US', 'France']].T\n",
    "deathsItalyUK.index = pd.to_datetime(deathsItalyUK.index, format='%m/%d/%y')\n",
    "\n",
    "casesOfInterest = groupedCases.loc[['Italy', 'United Kingdom', 'China', 'Spain', 'US', 'France']].T\n",
    "casesOfInterest.index = pd.to_datetime(casesOfInterest.index, format='%m/%d/%y')"
   ]
  },
  {
   "cell_type": "code",
   "execution_count": null,
   "metadata": {},
   "outputs": [],
   "source": [
    "origins = (casesOfInterest >= 1).idxmax()\n",
    "daysSinceFirstCase = pd.DataFrame()\n",
    "daysSinceFirstCase['China'] = casesOfInterest['China']\n",
    "\n",
    "for county in casesOfInterest.columns:\n",
    "    cases = casesOfInterest[county].loc[casesOfInterest.index > origins[county]].values\n",
    "    daysSinceFirstCase[county] = np.nan\n",
    "    daysSinceFirstCase.iloc[0:len(cases), daysSinceFirstCase.columns.get_loc(county)] = cases\n",
    "\n",
    "daysSinceFirstCase = daysSinceFirstCase.reset_index(drop=True)"
   ]
  },
  {
   "cell_type": "code",
   "execution_count": null,
   "metadata": {},
   "outputs": [],
   "source": [
    "origins = (deathsItalyUK >= 1).idxmax()\n",
    "daysSinceFirstDeath = pd.DataFrame()\n",
    "daysSinceFirstDeath['China'] = deathsItalyUK['China']\n",
    "\n",
    "for county in deathsItalyUK.columns:\n",
    "    deaths = deathsItalyUK[county].loc[deathsItalyUK.index > origins[county]].values\n",
    "    daysSinceFirstDeath[county] = np.nan\n",
    "    daysSinceFirstDeath.iloc[0:len(deaths), daysSinceFirstDeath.columns.get_loc(county)] = deaths\n",
    "\n",
    "daysSinceFirstDeath = daysSinceFirstDeath.reset_index(drop=True)"
   ]
  },
  {
   "cell_type": "code",
   "execution_count": null,
   "metadata": {},
   "outputs": [],
   "source": [
    "deathRateByDate = daysSinceFirstDeath.copy()\n",
    "deathRateByDate = deathRateByDate.fillna(method='pad')\n",
    "deathRateByDate.iloc[0:-1] = deathRateByDate.iloc[1:].values - deathRateByDate.iloc[0:-1].values\n",
    "deathRateByDate.drop(deathRateByDate.tail(1).index,inplace=True)\n",
    "deathRateByDate = deathRateByDate.replace(0, np.nan).fillna(method='bfill')"
   ]
  },
  {
   "cell_type": "code",
   "execution_count": null,
   "metadata": {},
   "outputs": [],
   "source": [
    "ax = daysSinceFirstDeath.plot(logy=True)\n",
    "ax.set(xlabel=\"Days Since First Death\", ylabel=\"Deaths\")\n",
    "ax.grid()\n",
    "ax.get_figure().savefig('Covid-19 Deaths (Total) - log.png', dpi=600, bbox_inches='tight')\n",
    "\n",
    "ax = daysSinceFirstDeath.plot()\n",
    "ax.set(xlabel=\"Days Since First Death\", ylabel=\"Deaths\")\n",
    "ax.grid()\n",
    "ax.get_figure().savefig('Covid-19 Deaths (Total) - linear.png', dpi=600, bbox_inches='tight')\n",
    "\n",
    "ax2 = daysSinceFirstCase.plot(logy=True)\n",
    "ax2.set(xlabel=\"Days Since First Case\", ylabel=\"Cases - Total\")\n",
    "ax2.grid()\n",
    "ax2.get_figure().savefig('Covid-19 Cases (Total) - log.png', dpi=600, bbox_inches='tight')\n",
    "\n",
    "ax2 = daysSinceFirstCase.plot()\n",
    "ax2.set(xlabel=\"Days Since First Case\", ylabel=\"Cases - Total\")\n",
    "ax2.grid()\n",
    "ax2.get_figure().savefig('Covid-19 Cases (Total).png', dpi=600, bbox_inches='tight')"
   ]
  },
  {
   "cell_type": "code",
   "execution_count": null,
   "metadata": {},
   "outputs": [],
   "source": [
    "deathRateByDate['US'].max()\n"
   ]
  },
  {
   "cell_type": "code",
   "execution_count": null,
   "metadata": {},
   "outputs": [],
   "source": [
    "daysSinceFirstDeath['US'].max()"
   ]
  },
  {
   "cell_type": "code",
   "execution_count": null,
   "metadata": {},
   "outputs": [],
   "source": []
  }
 ],
 "metadata": {
  "kernelspec": {
   "display_name": "Python 3",
   "language": "python",
   "name": "python3"
  },
  "language_info": {
   "codemirror_mode": {
    "name": "ipython",
    "version": 3
   },
   "file_extension": ".py",
   "mimetype": "text/x-python",
   "name": "python",
   "nbconvert_exporter": "python",
   "pygments_lexer": "ipython3",
   "version": "3.7.3"
  }
 },
 "nbformat": 4,
 "nbformat_minor": 4
}
