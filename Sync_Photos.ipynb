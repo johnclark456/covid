{
  "nbformat": 4,
  "nbformat_minor": 0,
  "metadata": {
    "colab": {
      "name": "Sync Photos.ipynb",
      "provenance": [],
      "collapsed_sections": [],
      "authorship_tag": "ABX9TyP/hESYP0fj76YsNPC0vwXb",
      "include_colab_link": true
    },
    "kernelspec": {
      "name": "python3",
      "display_name": "Python 3"
    }
  },
  "cells": [
    {
      "cell_type": "markdown",
      "metadata": {
        "id": "view-in-github",
        "colab_type": "text"
      },
      "source": [
        "<a href=\"https://colab.research.google.com/github/johnclark456/covid/blob/master/Sync_Photos.ipynb\" target=\"_parent\"><img src=\"https://colab.research.google.com/assets/colab-badge.svg\" alt=\"Open In Colab\"/></a>"
      ]
    },
    {
      "cell_type": "code",
      "metadata": {
        "id": "JEeEO4PXZZgl",
        "colab_type": "code",
        "outputId": "dc865397-0c1c-4aad-e101-5c6736290d72",
        "colab": {
          "base_uri": "https://localhost:8080/",
          "height": 124
        }
      },
      "source": [
        "from google.colab import drive\n",
        "drive.mount('/content/drive')"
      ],
      "execution_count": 2,
      "outputs": [
        {
          "output_type": "stream",
          "text": [
            "Go to this URL in a browser: https://accounts.google.com/o/oauth2/auth?client_id=947318989803-6bn6qk8qdgf4n4g3pfee6491hc0brc4i.apps.googleusercontent.com&redirect_uri=urn%3aietf%3awg%3aoauth%3a2.0%3aoob&response_type=code&scope=email%20https%3a%2f%2fwww.googleapis.com%2fauth%2fdocs.test%20https%3a%2f%2fwww.googleapis.com%2fauth%2fdrive%20https%3a%2f%2fwww.googleapis.com%2fauth%2fdrive.photos.readonly%20https%3a%2f%2fwww.googleapis.com%2fauth%2fpeopleapi.readonly\n",
            "\n",
            "Enter your authorization code:\n",
            "··········\n",
            "Mounted at /content/drive\n"
          ],
          "name": "stdout"
        }
      ]
    },
    {
      "cell_type": "code",
      "metadata": {
        "id": "Xduzj72SZvRi",
        "colab_type": "code",
        "colab": {}
      },
      "source": [
        "from google.colab import auth\n",
        "auth.authenticate_user()"
      ],
      "execution_count": 0,
      "outputs": []
    },
    {
      "cell_type": "code",
      "metadata": {
        "id": "DjecK2TwZ0d7",
        "colab_type": "code",
        "outputId": "574bdc51-c3a2-4bd9-9234-c26f910db257",
        "colab": {
          "base_uri": "https://localhost:8080/",
          "height": 139
        }
      },
      "source": [
        "project_id = 'quixotic-height-274708'\n",
        "!gcloud config set project {project_id}\n",
        "!gsutil ls"
      ],
      "execution_count": 4,
      "outputs": [
        {
          "output_type": "stream",
          "text": [
            "Updated property [core/project].\n",
            "\n",
            "\n",
            "To take a quick anonymous survey, run:\n",
            "  $ gcloud survey\n",
            "\n",
            "gs://photos-zoeandjohn/\n"
          ],
          "name": "stdout"
        }
      ]
    },
    {
      "cell_type": "code",
      "metadata": {
        "id": "-4KMG3MYaEEZ",
        "colab_type": "code",
        "colab": {
          "base_uri": "https://localhost:8080/",
          "height": 191
        },
        "outputId": "5fcf62e5-b3f1-4b3d-caae-e443cbe7779a"
      },
      "source": [
        "bucket_name = 'photos-zoeandjohn'\n",
        "!gsutil -m rsync -r /content/drive/My\\ Drive/Photos gs://{bucket_name}/archive"
      ],
      "execution_count": 6,
      "outputs": [
        {
          "output_type": "stream",
          "text": [
            "Building synchronization state...\n",
            "At destination listing 10000...\n",
            "At source listing 10000...\n",
            "At destination listing 20000...\n",
            "At source listing 20000...\n",
            "At destination listing 30000...\n",
            "At source listing 30000...\n",
            "Starting synchronization...\n",
            "CommandException: Error opening file \"file:///content/drive/My Drive/Photos/Imaging Bundle/Overlays/Instruction.gdoc\": [Errno 95] Operation not supported: u'/content/drive/My Drive/Photos/Imaging Bundle/Overlays/Instruction.gdoc'.\n",
            "CommandException: 1 files/objects could not be copied/removed.\n"
          ],
          "name": "stdout"
        }
      ]
    }
  ]
}